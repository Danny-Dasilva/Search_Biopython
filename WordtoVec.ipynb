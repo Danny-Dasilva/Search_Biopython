{
 "cells": [
  {
   "cell_type": "code",
   "execution_count": 1,
   "metadata": {},
   "outputs": [
    {
     "name": "stdout",
     "output_type": "stream",
     "text": [
      "Word2Vec(vocab=14, size=100, alpha=0.025)\n",
      "['this', 'is', 'the', 'first', 'sentence', 'for', 'word2vec', 'second', 'yet', 'another', 'one', 'more', 'and', 'final']\n",
      "[ 1.6306078e-03 -3.9060409e-03 -2.3068043e-03 -2.7632739e-03\n",
      "  1.8317420e-03  3.6229701e-03  4.2501910e-04  4.1003551e-04\n",
      "  4.9084113e-03  3.6906169e-03  3.1255777e-03  2.0194168e-03\n",
      "  1.2719670e-03  1.1805122e-03  1.2439406e-03  2.8956728e-03\n",
      " -1.8125429e-04 -2.5902798e-03  2.3395221e-03 -3.1548487e-03\n",
      "  6.0785125e-04 -2.0624063e-04  8.1585412e-04  2.8163285e-03\n",
      "  3.6124173e-03 -3.3787680e-03 -1.6252237e-03  9.7131840e-04\n",
      " -5.4552889e-04  1.6674465e-03  8.5776258e-04 -3.3833666e-03\n",
      " -4.7090715e-03 -1.8778471e-03 -2.1293096e-03 -4.8884153e-03\n",
      " -1.5551767e-03 -3.1461460e-03 -2.2315769e-03 -5.3869345e-04\n",
      " -1.9799552e-03  1.7434071e-03  2.7466803e-03  6.7931018e-04\n",
      "  1.4228647e-03  1.5271951e-03  9.3846371e-05 -3.2917226e-03\n",
      " -2.4592099e-03  4.0596863e-03 -3.3754259e-03  1.2382442e-03\n",
      " -3.0635949e-03 -1.0486089e-03  4.3603114e-04  4.3417141e-03\n",
      " -1.2692896e-03 -4.3384274e-03 -2.5935802e-03 -1.0136676e-03\n",
      "  2.3763874e-03 -2.1519559e-03  2.4007093e-03 -4.1375011e-03\n",
      "  4.1446094e-03  3.8319475e-03  3.6781951e-04  3.8646276e-03\n",
      "  1.2566551e-03 -1.3564442e-03  1.5010199e-03 -8.6413044e-04\n",
      " -1.2754155e-03  1.3810472e-03  3.1204098e-03  1.2485770e-03\n",
      " -1.4721466e-03  1.1353486e-03 -4.5365095e-03  2.2146611e-03\n",
      "  4.9757152e-03 -4.5005260e-03  1.5167302e-03  3.1211779e-03\n",
      " -4.2525060e-03  4.7837505e-03  3.9267266e-04  2.0328197e-03\n",
      " -3.6003920e-03  4.3415083e-03 -3.6556865e-03  7.3855906e-04\n",
      "  1.4202865e-03  1.3002459e-04 -3.0520328e-04  2.2627746e-03\n",
      "  3.2111378e-03 -2.9320212e-03 -8.8133599e-04 -1.6617910e-03]\n",
      "Word2Vec(vocab=14, size=100, alpha=0.025)\n"
     ]
    },
    {
     "name": "stderr",
     "output_type": "stream",
     "text": [
      "/usr/local/lib/python3.6/dist-packages/ipykernel_launcher.py:12: DeprecationWarning: Call to deprecated `__getitem__` (Method will be removed in 4.0.0, use self.wv.__getitem__() instead).\n",
      "  if sys.path[0] == '':\n"
     ]
    }
   ],
   "source": [
    "from gensim.models import Word2Vec\n",
    "# define training data\n",
    "sentences = [['this', 'is', 'the', 'first', 'sentence', 'for', 'word2vec'], ['this', 'is', 'the', 'second', 'sentence'], ['yet', 'another', 'sentence'], ['one', 'more', 'sentence'], ['and', 'the', 'final', 'sentence']]\n",
    "# train model\n",
    "model = Word2Vec(sentences, min_count=1)\n",
    "# summarize the loaded model\n",
    "print(model)\n",
    "# summarize vocabulary\n",
    "words = list(model.wv.vocab)\n",
    "print(words)\n",
    "# access vector for one word\n",
    "print(model['sentence'])\n",
    "# save model\n",
    "model.save('model.bin')\n",
    "# load model\n",
    "new_model = Word2Vec.load('model.bin')\n",
    "print(new_model)"
   ]
  },
  {
   "cell_type": "code",
   "execution_count": 2,
   "metadata": {},
   "outputs": [
    {
     "name": "stderr",
     "output_type": "stream",
     "text": [
      "/usr/local/lib/python3.6/dist-packages/ipykernel_launcher.py:1: DeprecationWarning: Call to deprecated `__getitem__` (Method will be removed in 4.0.0, use self.wv.__getitem__() instead).\n",
      "  \"\"\"Entry point for launching an IPython kernel.\n"
     ]
    }
   ],
   "source": [
    "X = model[model.wv.vocab]"
   ]
  },
  {
   "cell_type": "code",
   "execution_count": 3,
   "metadata": {},
   "outputs": [
    {
     "name": "stderr",
     "output_type": "stream",
     "text": [
      "/usr/local/lib/python3.6/dist-packages/ipykernel_launcher.py:13: DeprecationWarning: Call to deprecated `__getitem__` (Method will be removed in 4.0.0, use self.wv.__getitem__() instead).\n",
      "  del sys.path[0]\n"
     ]
    },
    {
     "data": {
      "text/plain": [
       "<Figure size 640x480 with 1 Axes>"
      ]
     },
     "metadata": {},
     "output_type": "display_data"
    }
   ],
   "source": [
    "from gensim.models import Word2Vec\n",
    "from sklearn.decomposition import PCA\n",
    "from matplotlib import pyplot\n",
    "# define training data\n",
    "sentences = [['this', 'is', 'the', 'first', 'sentence', 'for', 'word2vec'],\n",
    "\t\t\t['this', 'is', 'the', 'second', 'sentence'],\n",
    "\t\t\t['yet', 'another', 'sentence'],\n",
    "\t\t\t['one', 'more', 'sentence'],\n",
    "\t\t\t['and', 'the', 'final', 'sentence']]\n",
    "# train model\n",
    "model = Word2Vec(sentences, min_count=1)\n",
    "# fit a 2d PCA model to the vectors\n",
    "X = model[model.wv.vocab]\n",
    "pca = PCA(n_components=2)\n",
    "result = pca.fit_transform(X)\n",
    "# create a scatter plot of the projection\n",
    "pyplot.scatter(result[:, 0], result[:, 1])\n",
    "words = list(model.wv.vocab)\n",
    "for i, word in enumerate(words):\n",
    "\tpyplot.annotate(word, xy=(result[i, 0], result[i, 1]))\n",
    "pyplot.show()"
   ]
  },
  {
   "cell_type": "code",
   "execution_count": null,
   "metadata": {},
   "outputs": [],
   "source": []
  }
 ],
 "metadata": {
  "kernelspec": {
   "display_name": "Python 3",
   "language": "python",
   "name": "python3"
  },
  "language_info": {
   "codemirror_mode": {
    "name": "ipython",
    "version": 3
   },
   "file_extension": ".py",
   "mimetype": "text/x-python",
   "name": "python",
   "nbconvert_exporter": "python",
   "pygments_lexer": "ipython3",
   "version": "3.6.8"
  }
 },
 "nbformat": 4,
 "nbformat_minor": 2
}
