{
 "cells": [
  {
   "cell_type": "code",
   "execution_count": 1,
   "metadata": {},
   "outputs": [],
   "source": [
    "def transform_texts(texts):\n",
    "    # Load the annotation models\n",
    "    nlp = English()\n",
    "    # Stream texts through the models. We accumulate a buffer and release\n",
    "    # the GIL around the parser, for efficient multi-threading.\n",
    "    for doc in nlp.pipe(texts, n_threads=4):\n",
    "        # Iterate over base NPs, e.g. \"all their good ideas\"\n",
    "        for np in doc.noun_chunks:\n",
    "            # Only keep adjectives and nouns, e.g. \"good ideas\"\n",
    "            while len(np) > 1 and np[0].dep_ not in ('amod', 'compound'):\n",
    "                np = np[1:]\n",
    "            if len(np) > 1:\n",
    "                # Merge the tokens, e.g. good_ideas\n",
    "                np.merge(np.root.tag_, np.text, np.root.ent_type_)\n",
    "            # Iterate over named entities\n",
    "            for ent in doc.ents:\n",
    "                if len(ent) > 1:\n",
    "                    # Merge them into single tokens\n",
    "                    ent.merge(ent.root.tag_, ent.text, ent.label_)\n",
    "        token_strings = []\n",
    "        for token in tokens:\n",
    "            text = token.text.replace(' ', '_')\n",
    "            tag = token.ent_type_ or token.pos_\n",
    "            token_strings.append('%s|%s' % (text, tag))\n",
    "        yield ' '.join(token_strings)\n"
   ]
  },
  {
   "cell_type": "code",
   "execution_count": 2,
   "metadata": {},
   "outputs": [
    {
     "ename": "NameError",
     "evalue": "name 'model' is not defined",
     "output_type": "error",
     "traceback": [
      "\u001b[0;31m---------------------------------------------------------------------------\u001b[0m",
      "\u001b[0;31mNameError\u001b[0m                                 Traceback (most recent call last)",
      "\u001b[0;32m<ipython-input-2-63cbff493a0e>\u001b[0m in \u001b[0;36m<module>\u001b[0;34m\u001b[0m\n\u001b[0;32m----> 1\u001b[0;31m \u001b[0mmodel\u001b[0m\u001b[0;34m.\u001b[0m\u001b[0msimilarity\u001b[0m\u001b[0;34m(\u001b[0m\u001b[0;34m'fair_game|NOUN'\u001b[0m\u001b[0;34m,\u001b[0m \u001b[0;34m'game|NOUN'\u001b[0m\u001b[0;34m)\u001b[0m\u001b[0;34m\u001b[0m\u001b[0;34m\u001b[0m\u001b[0m\n\u001b[0m",
      "\u001b[0;31mNameError\u001b[0m: name 'model' is not defined"
     ]
    }
   ],
   "source": [
    "model.similarity('fair_game|NOUN', 'game|NOUN')"
   ]
  },
  {
   "cell_type": "code",
   "execution_count": null,
   "metadata": {},
   "outputs": [],
   "source": []
  }
 ],
 "metadata": {
  "kernelspec": {
   "display_name": "Python 3",
   "language": "python",
   "name": "python3"
  },
  "language_info": {
   "codemirror_mode": {
    "name": "ipython",
    "version": 3
   },
   "file_extension": ".py",
   "mimetype": "text/x-python",
   "name": "python",
   "nbconvert_exporter": "python",
   "pygments_lexer": "ipython3",
   "version": "3.6.8"
  }
 },
 "nbformat": 4,
 "nbformat_minor": 2
}
